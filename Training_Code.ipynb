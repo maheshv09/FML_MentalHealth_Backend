{
 "cells": [
  {
   "cell_type": "code",
   "execution_count": null,
   "id": "e40644b3-8988-4d4d-a4e1-3df5d7dee596",
   "metadata": {},
   "outputs": [],
   "source": []
  },
  {
   "cell_type": "code",
   "execution_count": 1,
   "id": "218a966b-ee81-4bfc-8e47-d1ca48244d04",
   "metadata": {},
   "outputs": [],
   "source": [
    "import pandas as pd\n",
    "from sklearn.preprocessing import LabelEncoder\n",
    "\n"
   ]
  },
  {
   "cell_type": "code",
   "execution_count": 2,
   "id": "942101e5-2d33-4db2-a5a8-4c50785baaad",
   "metadata": {},
   "outputs": [],
   "source": [
    "df = pd.read_csv('dataset.csv')\n"
   ]
  },
  {
   "cell_type": "code",
   "execution_count": 3,
   "id": "cae34338-2833-448c-b535-be1745a441e1",
   "metadata": {},
   "outputs": [
    {
     "name": "stdout",
     "output_type": "stream",
     "text": [
      "WARNING:tensorflow:From C:\\Users\\Abhay Shanbhag\\miniconda3\\lib\\site-packages\\keras\\src\\losses.py:2976: The name tf.losses.sparse_softmax_cross_entropy is deprecated. Please use tf.compat.v1.losses.sparse_softmax_cross_entropy instead.\n",
      "\n"
     ]
    }
   ],
   "source": [
    "from sklearn.model_selection import train_test_split\n",
    "from tensorflow import keras\n"
   ]
  },
  {
   "cell_type": "code",
   "execution_count": null,
   "id": "d4a8e1a6-0f9b-46c6-a31d-6bf418364ccc",
   "metadata": {},
   "outputs": [],
   "source": [
    "import pandas as pd\n",
    "import numpy as np\n",
    "from sklearn.model_selection import train_test_split\n",
    "from sklearn.preprocessing import LabelEncoder\n",
    "from tensorflow import keras\n",
    "\n",
    "# Load dataset\n",
    "df = pd.read_csv('dataset.csv')\n",
    "\n",
    "# Ensure that 'Disorder' column exists in the original dataset\n",
    "if 'Disorder' not in df.columns:\n",
    "    raise ValueError(\"Column 'Disorder' not found in the dataset.\")\n",
    "\n",
    "# Extract features (X) and target variable (Y)\n",
    "X = df.drop(columns=['Disorder'])\n",
    "Y = df[['Disorder']]\n",
    "\n",
    "# Apply label encoding to categorical variables in X\n",
    "label_encoder_X = LabelEncoder()\n",
    "X_encoded = X.apply(label_encoder_X.fit_transform)\n",
    "\n",
    "# Apply one-hot encoding to the target variable (assuming Y is the target variable)\n",
    "label_encoder_Y = LabelEncoder()\n",
    "Y_encoded = Y.apply(label_encoder_Y.fit_transform)\n",
    "y_one_hot = keras.to_categorical(Y_encoded, num_classes=5)\n",
    "\n",
    "# Split data into train and test sets\n",
    "X_train, X_test, y_train, y_test = train_test_split(X_encoded, y_one_hot, test_size=0.2, random_state=42)\n",
    "\n",
    "# Define the Keras model architecture\n",
    "tf_model = keras.Sequential([\n",
    "    keras.layersInputLayer(input_shape=(X_train.shape[1],)),  # Input shape based on the number of features\n",
    "    Dense(100, activation='relu'),  # Example hidden layer\n",
    "    Dense(5, activation='softmax')  # Output layer for multiclass classification with 5 classes\n",
    "])\n",
    "\n",
    "# Compile the model with categorical_crossentropy loss for multiclass classification\n",
    "tf_model.compile(optimizer='adam', loss='categorical_crossentropy', metrics=['accuracy'])\n",
    "\n",
    "# Train the model using the one-hot encoded target variable\n",
    "tf_model.fit(X_train, y_train, epochs=10, batch_size=32, validation_split=0.2)\n",
    "\n",
    "# Save the model architecture to JSON file\n",
    "tf_model_json = tf_model.to_json()\n",
    "with open('model.json', 'w') as json_file:\n",
    "    json_file.write(tf_model_json)\n",
    "\n",
    "# Save the model weights\n",
    "tf_model.save_weights('model_weights.h5')\n",
    "\n",
    "# Load the model architecture from JSON file\n",
    "with open('model.json', 'r') as json_file:\n",
    "    loaded_model_json = json_file.read()\n",
    "\n",
    "# Reconstruct the model architecture\n",
    "loaded_model = model_from_json(loaded_model_json)\n",
    "\n",
    "# Load the model weights\n",
    "loaded_model.load_weights('model_weights.h5')\n",
    "\n",
    "# Define a sample data for prediction\n",
    "new_data_list = [0,0,0,0,0,0,1,1,1,1,1,1 , 0, 0, 0, 0, 0, 0, 0, 0, 0, 0, 0, 0]\n",
    "\n",
    "# Convert the list to a NumPy array\n",
    "new_data_array = np.array(new_data_list)\n",
    "\n",
    "# Reshape the array to match the input shape expected by the model\n",
    "new_data_array = new_data_array.reshape(1, 24)  # Assuming one sample\n",
    "\n",
    "# Predict using the loaded model\n",
    "predictions = loaded_model.predict(new_data_array)\n",
    "print(predictions)\n"
   ]
  },
  {
   "cell_type": "code",
   "execution_count": null,
   "id": "7dc81842-cd6a-4dc6-af4c-1eee92face80",
   "metadata": {},
   "outputs": [],
   "source": [
    "y_one_hot"
   ]
  },
  {
   "cell_type": "code",
   "execution_count": null,
   "id": "1163f389-90d2-4175-8230-5735d92a6986",
   "metadata": {},
   "outputs": [],
   "source": [
    "predicted_class = np.argmax(predictions)\n",
    "print(\"Predicted class:\", predicted_class)"
   ]
  },
  {
   "cell_type": "code",
   "execution_count": null,
   "id": "a5cde69e-b3fa-4255-858a-e5f121eb1452",
   "metadata": {},
   "outputs": [],
   "source": [
    "# Load dataset\n",
    "df = pd.read_csv('dataset.csv')\n",
    "\n",
    "\n",
    "if 'Disorder' not in df.columns:\n",
    "    raise ValueError(\"Column 'Disorder' not found in the dataset.\")\n",
    "\n",
    "# Extract features (X) and target variable (Y)\n",
    "X = df.drop(columns=['Disorder'])\n",
    "Y = df[['Disorder']]\n",
    "\n",
    "# Apply label encoding to categorical variables in X\n",
    "label_encoder_X = LabelEncoder()\n",
    "X_encoded = X.apply(label_encoder_X.fit_transform)\n",
    "\n",
    "# Apply one-hot encoding to the target variable (assuming Y is the target variable)\n",
    "label_encoder_Y = LabelEncoder()\n",
    "Y_encoded = Y.apply(label_encoder_Y.fit_transform)\n",
    "y_one_hot = keras.to_categorical(Y_encoded, num_classes=5)\n",
    "\n",
    "# Split data into train and test sets\n",
    "X_train, X_test, y_train, y_test = train_test_split(X_encoded, y_one_hot, test_size=0.2, random_state=42)\n",
    "\n",
    "# Define the Keras model architecture\n",
    "tf_model = keras.Sequential([\n",
    "    keras.layers.InputLayer(input_shape=(X_train.shape[1],)),  # Input shape based on the number of features\n",
    "     keras.layers.Dense(100, activation='relu'),  # Example hidden layer\n",
    "     keras.layers.Dense(5, activation='softmax')  # Output layer for multiclass classification with 5 classes\n",
    "])\n",
    "\n",
    "# Compile the model with categorical_crossentropy loss for multiclass classification\n",
    "tf_model.compile(optimizer='adam', loss='categorical_crossentropy', metrics=['accuracy'])\n",
    "\n",
    "# Train the model using the one-hot encoded target variable\n",
    "tf_model.fit(X_train, y_train, epochs=10, batch_size=32, validation_split=0.2)\n",
    "\n",
    "# Save the model architecture to JSON file\n",
    "tf_model_json = tf_model.to_json()\n",
    "with open('model.json', 'w') as json_file:\n",
    "    json_file.write(tf_model_json)\n",
    "\n",
    "# Save the model weights\n",
    "tf_model.save_weights('model_weights.h5')\n",
    "\n",
    "#-------------------------DUMMY_DATA----------------------------------------\n",
    "new_data_list = [0,0,0,0,0,0,1,1,1,1,1,1 , 0, 0, 0, 0, 0, 0, 0, 0, 0, 0, 0, 0]\n",
    "\n",
    "# Convert the list to a NumPy array\n",
    "new_data_array = np.array(new_data_list)\n",
    "\n",
    "# Reshape the array to match the input shape expected by the model\n",
    "new_data_array = new_data_array.reshape(1, 24)  # Assuming one sample\n",
    "\n",
    "# Predict using the loaded model\n",
    "predictions = tf_model.predict(new_data_array)\n",
    "print(\"############## PRED  ##############\",np.argmax(predictions))\n"
   ]
  },
  {
   "cell_type": "code",
   "execution_count": null,
   "id": "3731c10a-9d03-4f6d-a853-20e26f7536e9",
   "metadata": {},
   "outputs": [],
   "source": []
  }
 ],
 "metadata": {
  "kernelspec": {
   "display_name": "Python 3 (ipykernel)",
   "language": "python",
   "name": "python3"
  },
  "language_info": {
   "codemirror_mode": {
    "name": "ipython",
    "version": 3
   },
   "file_extension": ".py",
   "mimetype": "text/x-python",
   "name": "python",
   "nbconvert_exporter": "python",
   "pygments_lexer": "ipython3",
   "version": "3.10.13"
  }
 },
 "nbformat": 4,
 "nbformat_minor": 5
}
